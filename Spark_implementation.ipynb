{
  "nbformat": 4,
  "nbformat_minor": 0,
  "metadata": {
    "colab": {
      "provenance": []
    },
    "kernelspec": {
      "name": "python3",
      "display_name": "Python 3"
    },
    "language_info": {
      "name": "python"
    }
  },
  "cells": [
    {
      "cell_type": "code",
      "source": [
        "!pip install pyspark\n",
        "\n",
        "# Import required libraries\n",
        "from pyspark.sql import SparkSession\n",
        "from pyspark.ml.feature import VectorAssembler, StandardScaler, StringIndexer\n",
        "from pyspark.ml.classification import RandomForestClassifier\n",
        "from pyspark.ml.evaluation import MulticlassClassificationEvaluator\n",
        "from pyspark.ml.feature import PCA\n",
        "\n",
        "# Initialize Spark session\n",
        "spark = SparkSession.builder \\\n",
        "    .appName(\"RandomForestModel\") \\\n",
        "    .getOrCreate()"
      ],
      "metadata": {
        "colab": {
          "base_uri": "https://localhost:8080/"
        },
        "id": "0NpPq83ino-R",
        "outputId": "47fdc48e-f7c3-4853-dc59-71fa1ae64607"
      },
      "execution_count": null,
      "outputs": [
        {
          "output_type": "stream",
          "name": "stdout",
          "text": [
            "Requirement already satisfied: pyspark in /usr/local/lib/python3.10/dist-packages (3.5.1)\n",
            "Requirement already satisfied: py4j==0.10.9.7 in /usr/local/lib/python3.10/dist-packages (from pyspark) (0.10.9.7)\n"
          ]
        }
      ]
    },
    {
      "cell_type": "code",
      "source": [
        "# Load the data\n",
        "data_path = \"Updated_data.csv\"\n",
        "data = spark.read.csv(data_path, header=True, inferSchema=True)\n",
        "\n",
        "# Preprocessing\n",
        "data = data.withColumn(\"ObesityLevel\", data[\"ObesityLevel\"].cast(\"double\"))\n",
        "\n",
        "# Convert categorical variables to factors if not already done\n",
        "categorical_cols = [\"Gender\", \"family_history_with_overweight\", \"FCHighCal\", \"SMOKE\", \"MonitorCalory\", \"Alcohol\", \"MTRANS\"]\n",
        "for col in categorical_cols:\n",
        "    data = data.withColumn(col, data[col].cast(\"double\"))"
      ],
      "metadata": {
        "id": "fn2o4-UMrUIB"
      },
      "execution_count": null,
      "outputs": []
    },
    {
      "cell_type": "code",
      "source": [
        "# Create feature vector for untransformed data\n",
        "feature_cols = data.columns[1:-1]  # Exclude target variable and non-numeric columns\n",
        "assembler_untransformed = VectorAssembler(inputCols=feature_cols, outputCol=\"features\")\n",
        "data_untransformed = assembler_untransformed.transform(data)\n",
        "\n",
        "# Train/test split for untransformed data\n",
        "seed = 1999\n",
        "(training_data, test_data) = data_untransformed.randomSplit([0.7, 0.3], seed=seed)\n",
        "\n",
        "# Train a random forest model for untransformed data\n",
        "rf_model_untransformed = RandomForestClassifier(labelCol=\"ObesityLevel\", featuresCol=\"features\", numTrees=500, seed=seed)\n",
        "rf_model_untransformed = rf_model_untransformed.fit(training_data)\n",
        "\n",
        "# Evaluate Model Performance\n",
        "evaluator = MulticlassClassificationEvaluator(labelCol=\"ObesityLevel\", predictionCol=\"prediction\", metricName=\"accuracy\")\n",
        "\n",
        "# Evaluate untransformed model\n",
        "predictions_untransformed = rf_model_untransformed.transform(test_data)\n",
        "accuracy_untransformed = evaluator.evaluate(predictions_untransformed)\n",
        "\n",
        "print(\"Accuracy for untransformed data:\", accuracy_untransformed)"
      ],
      "metadata": {
        "colab": {
          "base_uri": "https://localhost:8080/"
        },
        "id": "ZuIN85Hq1MNk",
        "outputId": "b295cae6-ed20-4365-eefa-3e1ca515ad57"
      },
      "execution_count": null,
      "outputs": [
        {
          "output_type": "stream",
          "name": "stdout",
          "text": [
            "Accuracy for untransformed data: 0.8032414910858995\n"
          ]
        }
      ]
    },
    {
      "cell_type": "code",
      "source": [
        "# Perform PCA for feature transformation\n",
        "pca = PCA(k=6, inputCol=\"features\", outputCol=\"pca_features\")\n",
        "pca_model = pca.fit(data_untransformed)\n",
        "data_transformed = pca_model.transform(data_untransformed)\n",
        "\n",
        "# Train/test split for transformed data\n",
        "(training_data_transformed, test_data_transformed) = data_transformed.randomSplit([0.7, 0.3], seed=seed)\n",
        "\n",
        "# Train a random forest model for transformed data\n",
        "rf_model_transformed = RandomForestClassifier(labelCol=\"ObesityLevel\", featuresCol=\"pca_features\", numTrees=500, seed=seed)\n",
        "rf_model_transformed = rf_model_transformed.fit(training_data_transformed)\n",
        "\n",
        "# Evaluate transformed model\n",
        "predictions_transformed = rf_model_transformed.transform(test_data_transformed)\n",
        "accuracy_transformed = evaluator.evaluate(predictions_transformed)\n",
        "\n",
        "print(\"Accuracy for transformed data:\", accuracy_transformed)"
      ],
      "metadata": {
        "id": "Jn77AVShrcq6",
        "colab": {
          "base_uri": "https://localhost:8080/"
        },
        "outputId": "b14688c5-5653-428b-aefe-30427c0bbdcb"
      },
      "execution_count": null,
      "outputs": [
        {
          "output_type": "stream",
          "name": "stdout",
          "text": [
            "Accuracy for transformed data: 0.8160453808752026\n"
          ]
        }
      ]
    },
    {
      "cell_type": "code",
      "source": [
        "import matplotlib.pyplot as plt\n",
        "\n",
        "# Assuming you have accuracy results for both untransformed and transformed data\n",
        "accuracy_results = [accuracy_untransformed, accuracy_transformed]\n",
        "data_types = ['Untransformed', 'Transformed']\n",
        "\n",
        "# Create a DataFrame to hold the results\n",
        "evaluation_results_pd = spark.createDataFrame(zip(data_types, accuracy_results), schema=[\"Data Type\", \"Accuracy\"])\n",
        "\n",
        "# Convert to Pandas DataFrame for plotting\n",
        "evaluation_results_pd = evaluation_results_pd.toPandas()\n",
        "\n",
        "# Plot the evaluation results\n",
        "plt.figure(figsize=(8, 6))\n",
        "plt.bar(evaluation_results_pd[\"Data Type\"], evaluation_results_pd[\"Accuracy\"], color=['blue', 'green'])\n",
        "plt.title(\"Accuracy Comparison\")\n",
        "plt.xlabel(\"Data Type\")\n",
        "plt.ylabel(\"Accuracy\")\n",
        "plt.ylim(0, 1)  # Set y-axis limit to between 0 and 1\n",
        "plt.show()\n"
      ],
      "metadata": {
        "colab": {
          "base_uri": "https://localhost:8080/",
          "height": 564
        },
        "id": "vL8_EiKW0Gsw",
        "outputId": "cb2dc612-e7e0-4061-bf85-a22304793cf1"
      },
      "execution_count": null,
      "outputs": [
        {
          "output_type": "display_data",
          "data": {
            "text/plain": [
              "<Figure size 800x600 with 1 Axes>"
            ],
            "image/png": "[encoded data removed]"
          },
          "metadata": {}
        }
      ]
    },
    {
      "cell_type": "code",
      "source": [
        "# Stop the SparkSession\n",
        "spark.stop()"
      ],
      "metadata": {
        "id": "9yHU4p10rff_"
      },
      "execution_count": null,
      "outputs": []
    }
  ]
}